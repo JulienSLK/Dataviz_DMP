{
 "cells": [
  {
   "cell_type": "markdown",
   "id": "4e837385",
   "metadata": {},
   "source": [
    "# Analyse concernant l'utilisation et l'alimentation du Dossier Médical Partagé (DMP) / Espace Numérique en santé (ENS)"
   ]
  },
  {
   "cell_type": "markdown",
   "id": "ff227260",
   "metadata": {},
   "source": [
    "Libraries nécessaires :"
   ]
  },
  {
   "cell_type": "code",
   "execution_count": 1,
   "id": "5c87bc91",
   "metadata": {},
   "outputs": [],
   "source": [
    "# Pandas is a software library written for the Python programming language for data manipulation and analysis.\n",
    "import pandas as pd\n",
    "# NumPy is a library for the Python programming language, adding support for large, multi-dimensional arrays and matrices, along with a large collection of high-level mathematical functions to operate on these arrays\n",
    "import numpy as np\n",
    "# Datetime is a library that allows us to represent dates\n",
    "#import datetime\n",
    "\n",
    "# Setting this option will print all collumns of a dataframe\n",
    "pd.set_option('display.max_columns', None)\n",
    "# Setting this option will print all of the data in a feature\n",
    "pd.set_option('display.max_colwidth', None)"
   ]
  },
  {
   "cell_type": "markdown",
   "id": "b9608734",
   "metadata": {},
   "source": [
    "## Importation des données concernant l'utilisation du DMP :"
   ]
  },
  {
   "cell_type": "code",
   "execution_count": 20,
   "id": "e71db010",
   "metadata": {
    "scrolled": true
   },
   "outputs": [],
   "source": [
    "df_utilisateurs_dmp=pd.read_csv(r\"C:\\Users\\Julien\\Desktop\\Project_analyse_donnees_PS\\utilisateurs_dmp_donnees INSi.csv\", sep = ';')"
   ]
  },
  {
   "cell_type": "markdown",
   "id": "1b6d2de0",
   "metadata": {},
   "source": [
    "### Pré-traitements des données"
   ]
  },
  {
   "cell_type": "markdown",
   "id": "3d0d9fde",
   "metadata": {},
   "source": [
    "### première visualisation du dataframe :"
   ]
  },
  {
   "cell_type": "code",
   "execution_count": 21,
   "id": "e8ea2f10",
   "metadata": {},
   "outputs": [
    {
     "data": {
      "text/html": [
       "<div>\n",
       "<style scoped>\n",
       "    .dataframe tbody tr th:only-of-type {\n",
       "        vertical-align: middle;\n",
       "    }\n",
       "\n",
       "    .dataframe tbody tr th {\n",
       "        vertical-align: top;\n",
       "    }\n",
       "\n",
       "    .dataframe thead th {\n",
       "        text-align: right;\n",
       "    }\n",
       "</style>\n",
       "<table border=\"1\" class=\"dataframe\">\n",
       "  <thead>\n",
       "    <tr style=\"text-align: right;\">\n",
       "      <th></th>\n",
       "      <th>Départements</th>\n",
       "      <th>Type d'acteur</th>\n",
       "      <th>2023-10</th>\n",
       "      <th>2023-09</th>\n",
       "      <th>2023-08</th>\n",
       "      <th>2023-07</th>\n",
       "      <th>2023-06</th>\n",
       "      <th>2023-05</th>\n",
       "      <th>2023-04</th>\n",
       "      <th>2023-03</th>\n",
       "      <th>2023-02</th>\n",
       "      <th>2023-01</th>\n",
       "      <th>2022-12</th>\n",
       "      <th>2022-11</th>\n",
       "    </tr>\n",
       "  </thead>\n",
       "  <tbody>\n",
       "    <tr>\n",
       "      <th>0</th>\n",
       "      <td>01 - Ain</td>\n",
       "      <td>ES</td>\n",
       "      <td>17</td>\n",
       "      <td>16</td>\n",
       "      <td>15</td>\n",
       "      <td>16</td>\n",
       "      <td>14</td>\n",
       "      <td>14</td>\n",
       "      <td>14</td>\n",
       "      <td>15</td>\n",
       "      <td>14</td>\n",
       "      <td>13</td>\n",
       "      <td>13</td>\n",
       "      <td>13</td>\n",
       "    </tr>\n",
       "    <tr>\n",
       "      <th>1</th>\n",
       "      <td>01 - Ain</td>\n",
       "      <td>ESMS</td>\n",
       "      <td>1</td>\n",
       "      <td>NaN</td>\n",
       "      <td>NaN</td>\n",
       "      <td>NaN</td>\n",
       "      <td>NaN</td>\n",
       "      <td>NaN</td>\n",
       "      <td>NaN</td>\n",
       "      <td>NaN</td>\n",
       "      <td>NaN</td>\n",
       "      <td>NaN</td>\n",
       "      <td>NaN</td>\n",
       "      <td>NaN</td>\n",
       "    </tr>\n",
       "    <tr>\n",
       "      <th>2</th>\n",
       "      <td>01 - Ain</td>\n",
       "      <td>PSL - Autres Etablissements de Soins et Prévention</td>\n",
       "      <td>1</td>\n",
       "      <td>NaN</td>\n",
       "      <td>NaN</td>\n",
       "      <td>NaN</td>\n",
       "      <td>NaN</td>\n",
       "      <td>NaN</td>\n",
       "      <td>NaN</td>\n",
       "      <td>NaN</td>\n",
       "      <td>NaN</td>\n",
       "      <td>NaN</td>\n",
       "      <td>NaN</td>\n",
       "      <td>NaN</td>\n",
       "    </tr>\n",
       "    <tr>\n",
       "      <th>3</th>\n",
       "      <td>01 - Ain</td>\n",
       "      <td>PSL - Autres médecins spécialistes</td>\n",
       "      <td>77</td>\n",
       "      <td>76</td>\n",
       "      <td>65</td>\n",
       "      <td>62</td>\n",
       "      <td>62</td>\n",
       "      <td>60</td>\n",
       "      <td>54</td>\n",
       "      <td>56</td>\n",
       "      <td>55</td>\n",
       "      <td>44</td>\n",
       "      <td>30</td>\n",
       "      <td>38</td>\n",
       "    </tr>\n",
       "    <tr>\n",
       "      <th>4</th>\n",
       "      <td>01 - Ain</td>\n",
       "      <td>PSL - Centres de santé</td>\n",
       "      <td>8</td>\n",
       "      <td>8</td>\n",
       "      <td>7</td>\n",
       "      <td>7</td>\n",
       "      <td>7</td>\n",
       "      <td>7</td>\n",
       "      <td>1</td>\n",
       "      <td>2</td>\n",
       "      <td>1</td>\n",
       "      <td>NaN</td>\n",
       "      <td>NaN</td>\n",
       "      <td>NaN</td>\n",
       "    </tr>\n",
       "    <tr>\n",
       "      <th>...</th>\n",
       "      <td>...</td>\n",
       "      <td>...</td>\n",
       "      <td>...</td>\n",
       "      <td>...</td>\n",
       "      <td>...</td>\n",
       "      <td>...</td>\n",
       "      <td>...</td>\n",
       "      <td>...</td>\n",
       "      <td>...</td>\n",
       "      <td>...</td>\n",
       "      <td>...</td>\n",
       "      <td>...</td>\n",
       "      <td>...</td>\n",
       "      <td>...</td>\n",
       "    </tr>\n",
       "    <tr>\n",
       "      <th>1761</th>\n",
       "      <td>NR - NON_RENSEIGNE</td>\n",
       "      <td>PSL - Etablissements Relevant de la Loi Hospitalière</td>\n",
       "      <td>NaN</td>\n",
       "      <td>NaN</td>\n",
       "      <td>NaN</td>\n",
       "      <td>NaN</td>\n",
       "      <td>NaN</td>\n",
       "      <td>1</td>\n",
       "      <td>NaN</td>\n",
       "      <td>NaN</td>\n",
       "      <td>NaN</td>\n",
       "      <td>NaN</td>\n",
       "      <td>NaN</td>\n",
       "      <td>NaN</td>\n",
       "    </tr>\n",
       "    <tr>\n",
       "      <th>1762</th>\n",
       "      <td>NR - NON_RENSEIGNE</td>\n",
       "      <td>Social</td>\n",
       "      <td>NaN</td>\n",
       "      <td>NaN</td>\n",
       "      <td>NaN</td>\n",
       "      <td>NaN</td>\n",
       "      <td>2</td>\n",
       "      <td>1</td>\n",
       "      <td>NaN</td>\n",
       "      <td>NaN</td>\n",
       "      <td>2</td>\n",
       "      <td>NaN</td>\n",
       "      <td>NaN</td>\n",
       "      <td>NaN</td>\n",
       "    </tr>\n",
       "    <tr>\n",
       "      <th>1763</th>\n",
       "      <td>NR - NON_RENSEIGNE</td>\n",
       "      <td>NR</td>\n",
       "      <td>1 084</td>\n",
       "      <td>881</td>\n",
       "      <td>646</td>\n",
       "      <td>550</td>\n",
       "      <td>541</td>\n",
       "      <td>468</td>\n",
       "      <td>421</td>\n",
       "      <td>447</td>\n",
       "      <td>355</td>\n",
       "      <td>45 085</td>\n",
       "      <td>54 265</td>\n",
       "      <td>316</td>\n",
       "    </tr>\n",
       "    <tr>\n",
       "      <th>1764</th>\n",
       "      <td>NR - NON_RENSEIGNE</td>\n",
       "      <td>TOTAL</td>\n",
       "      <td>1 169</td>\n",
       "      <td>934</td>\n",
       "      <td>682</td>\n",
       "      <td>600</td>\n",
       "      <td>592</td>\n",
       "      <td>512</td>\n",
       "      <td>459</td>\n",
       "      <td>475</td>\n",
       "      <td>379</td>\n",
       "      <td>45 105</td>\n",
       "      <td>54 288</td>\n",
       "      <td>336</td>\n",
       "    </tr>\n",
       "    <tr>\n",
       "      <th>1765</th>\n",
       "      <td>NaN</td>\n",
       "      <td>TOTAL</td>\n",
       "      <td>84 967</td>\n",
       "      <td>82 328</td>\n",
       "      <td>71 348</td>\n",
       "      <td>70 745</td>\n",
       "      <td>70 638</td>\n",
       "      <td>65 446</td>\n",
       "      <td>62 276</td>\n",
       "      <td>67 262</td>\n",
       "      <td>63 097</td>\n",
       "      <td>63 123</td>\n",
       "      <td>58 694</td>\n",
       "      <td>58 130</td>\n",
       "    </tr>\n",
       "  </tbody>\n",
       "</table>\n",
       "<p>1766 rows × 14 columns</p>\n",
       "</div>"
      ],
      "text/plain": [
       "            Départements  \\\n",
       "0               01 - Ain   \n",
       "1               01 - Ain   \n",
       "2               01 - Ain   \n",
       "3               01 - Ain   \n",
       "4               01 - Ain   \n",
       "...                  ...   \n",
       "1761  NR - NON_RENSEIGNE   \n",
       "1762  NR - NON_RENSEIGNE   \n",
       "1763  NR - NON_RENSEIGNE   \n",
       "1764  NR - NON_RENSEIGNE   \n",
       "1765                 NaN   \n",
       "\n",
       "                                             Type d'acteur 2023-10 2023-09  \\\n",
       "0                                                       ES      17      16   \n",
       "1                                                     ESMS       1     NaN   \n",
       "2       PSL - Autres Etablissements de Soins et Prévention       1     NaN   \n",
       "3                       PSL - Autres médecins spécialistes      77      76   \n",
       "4                                   PSL - Centres de santé       8       8   \n",
       "...                                                    ...     ...     ...   \n",
       "1761  PSL - Etablissements Relevant de la Loi Hospitalière     NaN     NaN   \n",
       "1762                                                Social     NaN     NaN   \n",
       "1763                                                    NR   1 084     881   \n",
       "1764                                                 TOTAL   1 169     934   \n",
       "1765                                                 TOTAL  84 967  82 328   \n",
       "\n",
       "     2023-08 2023-07 2023-06 2023-05 2023-04 2023-03 2023-02 2023-01 2022-12  \\\n",
       "0         15      16      14      14      14      15      14      13      13   \n",
       "1        NaN     NaN     NaN     NaN     NaN     NaN     NaN     NaN     NaN   \n",
       "2        NaN     NaN     NaN     NaN     NaN     NaN     NaN     NaN     NaN   \n",
       "3         65      62      62      60      54      56      55      44      30   \n",
       "4          7       7       7       7       1       2       1     NaN     NaN   \n",
       "...      ...     ...     ...     ...     ...     ...     ...     ...     ...   \n",
       "1761     NaN     NaN     NaN       1     NaN     NaN     NaN     NaN     NaN   \n",
       "1762     NaN     NaN       2       1     NaN     NaN       2     NaN     NaN   \n",
       "1763     646     550     541     468     421     447     355  45 085  54 265   \n",
       "1764     682     600     592     512     459     475     379  45 105  54 288   \n",
       "1765  71 348  70 745  70 638  65 446  62 276  67 262  63 097  63 123  58 694   \n",
       "\n",
       "     2022-11  \n",
       "0         13  \n",
       "1        NaN  \n",
       "2        NaN  \n",
       "3         38  \n",
       "4        NaN  \n",
       "...      ...  \n",
       "1761     NaN  \n",
       "1762     NaN  \n",
       "1763     316  \n",
       "1764     336  \n",
       "1765  58 130  \n",
       "\n",
       "[1766 rows x 14 columns]"
      ]
     },
     "execution_count": 21,
     "metadata": {},
     "output_type": "execute_result"
    }
   ],
   "source": [
    "df_utilisateurs_dmp"
   ]
  },
  {
   "cell_type": "markdown",
   "id": "78511041",
   "metadata": {},
   "source": [
    "Nous allons changer le nom de la colonne 'Départements afin de la rendre cohérente avec les noms d'autres fichiers: "
   ]
  },
  {
   "cell_type": "code",
   "execution_count": 22,
   "id": "a7a1542a",
   "metadata": {},
   "outputs": [],
   "source": [
    "df_utilisateurs_dmp.rename(columns={'Départements':'Dep',}, inplace=True)"
   ]
  },
  {
   "cell_type": "code",
   "execution_count": 23,
   "id": "6648f169",
   "metadata": {},
   "outputs": [],
   "source": [
    "#df_utilisateurs_dmp.drop(\"Type d'acteur\", axis = 1, inplace=True)"
   ]
  },
  {
   "cell_type": "code",
   "execution_count": 24,
   "id": "0f420ddb",
   "metadata": {},
   "outputs": [
    {
     "data": {
      "text/html": [
       "<div>\n",
       "<style scoped>\n",
       "    .dataframe tbody tr th:only-of-type {\n",
       "        vertical-align: middle;\n",
       "    }\n",
       "\n",
       "    .dataframe tbody tr th {\n",
       "        vertical-align: top;\n",
       "    }\n",
       "\n",
       "    .dataframe thead th {\n",
       "        text-align: right;\n",
       "    }\n",
       "</style>\n",
       "<table border=\"1\" class=\"dataframe\">\n",
       "  <thead>\n",
       "    <tr style=\"text-align: right;\">\n",
       "      <th></th>\n",
       "      <th>Dep</th>\n",
       "      <th>Type d'acteur</th>\n",
       "      <th>2023-10</th>\n",
       "      <th>2023-09</th>\n",
       "      <th>2023-08</th>\n",
       "      <th>2023-07</th>\n",
       "      <th>2023-06</th>\n",
       "      <th>2023-05</th>\n",
       "      <th>2023-04</th>\n",
       "      <th>2023-03</th>\n",
       "      <th>2023-02</th>\n",
       "      <th>2023-01</th>\n",
       "      <th>2022-12</th>\n",
       "      <th>2022-11</th>\n",
       "    </tr>\n",
       "  </thead>\n",
       "  <tbody>\n",
       "    <tr>\n",
       "      <th>0</th>\n",
       "      <td>01 - Ain</td>\n",
       "      <td>ES</td>\n",
       "      <td>17</td>\n",
       "      <td>16</td>\n",
       "      <td>15</td>\n",
       "      <td>16</td>\n",
       "      <td>14</td>\n",
       "      <td>14</td>\n",
       "      <td>14</td>\n",
       "      <td>15</td>\n",
       "      <td>14</td>\n",
       "      <td>13</td>\n",
       "      <td>13</td>\n",
       "      <td>13</td>\n",
       "    </tr>\n",
       "    <tr>\n",
       "      <th>1</th>\n",
       "      <td>01 - Ain</td>\n",
       "      <td>ESMS</td>\n",
       "      <td>1</td>\n",
       "      <td>NaN</td>\n",
       "      <td>NaN</td>\n",
       "      <td>NaN</td>\n",
       "      <td>NaN</td>\n",
       "      <td>NaN</td>\n",
       "      <td>NaN</td>\n",
       "      <td>NaN</td>\n",
       "      <td>NaN</td>\n",
       "      <td>NaN</td>\n",
       "      <td>NaN</td>\n",
       "      <td>NaN</td>\n",
       "    </tr>\n",
       "    <tr>\n",
       "      <th>2</th>\n",
       "      <td>01 - Ain</td>\n",
       "      <td>PSL - Autres Etablissements de Soins et Prévention</td>\n",
       "      <td>1</td>\n",
       "      <td>NaN</td>\n",
       "      <td>NaN</td>\n",
       "      <td>NaN</td>\n",
       "      <td>NaN</td>\n",
       "      <td>NaN</td>\n",
       "      <td>NaN</td>\n",
       "      <td>NaN</td>\n",
       "      <td>NaN</td>\n",
       "      <td>NaN</td>\n",
       "      <td>NaN</td>\n",
       "      <td>NaN</td>\n",
       "    </tr>\n",
       "    <tr>\n",
       "      <th>3</th>\n",
       "      <td>01 - Ain</td>\n",
       "      <td>PSL - Autres médecins spécialistes</td>\n",
       "      <td>77</td>\n",
       "      <td>76</td>\n",
       "      <td>65</td>\n",
       "      <td>62</td>\n",
       "      <td>62</td>\n",
       "      <td>60</td>\n",
       "      <td>54</td>\n",
       "      <td>56</td>\n",
       "      <td>55</td>\n",
       "      <td>44</td>\n",
       "      <td>30</td>\n",
       "      <td>38</td>\n",
       "    </tr>\n",
       "    <tr>\n",
       "      <th>4</th>\n",
       "      <td>01 - Ain</td>\n",
       "      <td>PSL - Centres de santé</td>\n",
       "      <td>8</td>\n",
       "      <td>8</td>\n",
       "      <td>7</td>\n",
       "      <td>7</td>\n",
       "      <td>7</td>\n",
       "      <td>7</td>\n",
       "      <td>1</td>\n",
       "      <td>2</td>\n",
       "      <td>1</td>\n",
       "      <td>NaN</td>\n",
       "      <td>NaN</td>\n",
       "      <td>NaN</td>\n",
       "    </tr>\n",
       "  </tbody>\n",
       "</table>\n",
       "</div>"
      ],
      "text/plain": [
       "        Dep                                       Type d'acteur 2023-10  \\\n",
       "0  01 - Ain                                                  ES      17   \n",
       "1  01 - Ain                                                ESMS       1   \n",
       "2  01 - Ain  PSL - Autres Etablissements de Soins et Prévention       1   \n",
       "3  01 - Ain                  PSL - Autres médecins spécialistes      77   \n",
       "4  01 - Ain                              PSL - Centres de santé       8   \n",
       "\n",
       "  2023-09 2023-08 2023-07 2023-06 2023-05 2023-04 2023-03 2023-02 2023-01  \\\n",
       "0      16      15      16      14      14      14      15      14      13   \n",
       "1     NaN     NaN     NaN     NaN     NaN     NaN     NaN     NaN     NaN   \n",
       "2     NaN     NaN     NaN     NaN     NaN     NaN     NaN     NaN     NaN   \n",
       "3      76      65      62      62      60      54      56      55      44   \n",
       "4       8       7       7       7       7       1       2       1     NaN   \n",
       "\n",
       "  2022-12 2022-11  \n",
       "0      13      13  \n",
       "1     NaN     NaN  \n",
       "2     NaN     NaN  \n",
       "3      30      38  \n",
       "4     NaN     NaN  "
      ]
     },
     "execution_count": 24,
     "metadata": {},
     "output_type": "execute_result"
    }
   ],
   "source": [
    "df_utilisateurs_dmp.head()"
   ]
  },
  {
   "cell_type": "markdown",
   "id": "f3a922a5",
   "metadata": {},
   "source": [
    "On constate la presence de NaN, qui reflète l'absence de certaine données. \n",
    "On considère ici que l'absence de données correspond à une valeur de zéro. "
   ]
  },
  {
   "cell_type": "markdown",
   "id": "b2f4d793",
   "metadata": {},
   "source": [
    "#### Traitements de lignes vides : "
   ]
  },
  {
   "cell_type": "markdown",
   "id": "fcfed2c8",
   "metadata": {},
   "source": [
    "On vérifie d'abord, le nombre de cellules vides par colonnes. "
   ]
  },
  {
   "cell_type": "code",
   "execution_count": 6,
   "id": "6423cc9e",
   "metadata": {},
   "outputs": [
    {
     "data": {
      "text/plain": [
       "Dep                1\n",
       "Type d'acteur      0\n",
       "2023-10          184\n",
       "2023-09          211\n",
       "2023-08          287\n",
       "2023-07          281\n",
       "2023-06          277\n",
       "2023-05          289\n",
       "2023-04          309\n",
       "2023-03          303\n",
       "2023-02          338\n",
       "2023-01          346\n",
       "2022-12          491\n",
       "2022-11          374\n",
       "dtype: int64"
      ]
     },
     "execution_count": 6,
     "metadata": {},
     "output_type": "execute_result"
    }
   ],
   "source": [
    "df_utilisateurs_dmp.isnull().sum()"
   ]
  },
  {
   "cell_type": "markdown",
   "id": "56ff59a4",
   "metadata": {},
   "source": [
    "On va remplacer ces cellules vides par 0 afin de faciliter l'analyse. "
   ]
  },
  {
   "cell_type": "code",
   "execution_count": 25,
   "id": "94491558",
   "metadata": {},
   "outputs": [],
   "source": [
    "df_utilisateurs_dmp.replace(np.nan, 0, inplace=True)"
   ]
  },
  {
   "cell_type": "markdown",
   "id": "921b8743",
   "metadata": {},
   "source": [
    "Nous vérifications tout d'abord que les NaN ont bien été remplacés : "
   ]
  },
  {
   "cell_type": "code",
   "execution_count": 26,
   "id": "4a4815da",
   "metadata": {},
   "outputs": [
    {
     "data": {
      "text/html": [
       "<div>\n",
       "<style scoped>\n",
       "    .dataframe tbody tr th:only-of-type {\n",
       "        vertical-align: middle;\n",
       "    }\n",
       "\n",
       "    .dataframe tbody tr th {\n",
       "        vertical-align: top;\n",
       "    }\n",
       "\n",
       "    .dataframe thead th {\n",
       "        text-align: right;\n",
       "    }\n",
       "</style>\n",
       "<table border=\"1\" class=\"dataframe\">\n",
       "  <thead>\n",
       "    <tr style=\"text-align: right;\">\n",
       "      <th></th>\n",
       "      <th>Dep</th>\n",
       "      <th>Type d'acteur</th>\n",
       "      <th>2023-10</th>\n",
       "      <th>2023-09</th>\n",
       "      <th>2023-08</th>\n",
       "      <th>2023-07</th>\n",
       "      <th>2023-06</th>\n",
       "      <th>2023-05</th>\n",
       "      <th>2023-04</th>\n",
       "      <th>2023-03</th>\n",
       "      <th>2023-02</th>\n",
       "      <th>2023-01</th>\n",
       "      <th>2022-12</th>\n",
       "      <th>2022-11</th>\n",
       "    </tr>\n",
       "  </thead>\n",
       "  <tbody>\n",
       "    <tr>\n",
       "      <th>0</th>\n",
       "      <td>01 - Ain</td>\n",
       "      <td>ES</td>\n",
       "      <td>17</td>\n",
       "      <td>16</td>\n",
       "      <td>15</td>\n",
       "      <td>16</td>\n",
       "      <td>14</td>\n",
       "      <td>14</td>\n",
       "      <td>14</td>\n",
       "      <td>15</td>\n",
       "      <td>14</td>\n",
       "      <td>13</td>\n",
       "      <td>13</td>\n",
       "      <td>13</td>\n",
       "    </tr>\n",
       "    <tr>\n",
       "      <th>1</th>\n",
       "      <td>01 - Ain</td>\n",
       "      <td>ESMS</td>\n",
       "      <td>1</td>\n",
       "      <td>0</td>\n",
       "      <td>0</td>\n",
       "      <td>0</td>\n",
       "      <td>0</td>\n",
       "      <td>0</td>\n",
       "      <td>0</td>\n",
       "      <td>0</td>\n",
       "      <td>0</td>\n",
       "      <td>0</td>\n",
       "      <td>0</td>\n",
       "      <td>0</td>\n",
       "    </tr>\n",
       "    <tr>\n",
       "      <th>2</th>\n",
       "      <td>01 - Ain</td>\n",
       "      <td>PSL - Autres Etablissements de Soins et Prévention</td>\n",
       "      <td>1</td>\n",
       "      <td>0</td>\n",
       "      <td>0</td>\n",
       "      <td>0</td>\n",
       "      <td>0</td>\n",
       "      <td>0</td>\n",
       "      <td>0</td>\n",
       "      <td>0</td>\n",
       "      <td>0</td>\n",
       "      <td>0</td>\n",
       "      <td>0</td>\n",
       "      <td>0</td>\n",
       "    </tr>\n",
       "    <tr>\n",
       "      <th>3</th>\n",
       "      <td>01 - Ain</td>\n",
       "      <td>PSL - Autres médecins spécialistes</td>\n",
       "      <td>77</td>\n",
       "      <td>76</td>\n",
       "      <td>65</td>\n",
       "      <td>62</td>\n",
       "      <td>62</td>\n",
       "      <td>60</td>\n",
       "      <td>54</td>\n",
       "      <td>56</td>\n",
       "      <td>55</td>\n",
       "      <td>44</td>\n",
       "      <td>30</td>\n",
       "      <td>38</td>\n",
       "    </tr>\n",
       "    <tr>\n",
       "      <th>4</th>\n",
       "      <td>01 - Ain</td>\n",
       "      <td>PSL - Centres de santé</td>\n",
       "      <td>8</td>\n",
       "      <td>8</td>\n",
       "      <td>7</td>\n",
       "      <td>7</td>\n",
       "      <td>7</td>\n",
       "      <td>7</td>\n",
       "      <td>1</td>\n",
       "      <td>2</td>\n",
       "      <td>1</td>\n",
       "      <td>0</td>\n",
       "      <td>0</td>\n",
       "      <td>0</td>\n",
       "    </tr>\n",
       "    <tr>\n",
       "      <th>...</th>\n",
       "      <td>...</td>\n",
       "      <td>...</td>\n",
       "      <td>...</td>\n",
       "      <td>...</td>\n",
       "      <td>...</td>\n",
       "      <td>...</td>\n",
       "      <td>...</td>\n",
       "      <td>...</td>\n",
       "      <td>...</td>\n",
       "      <td>...</td>\n",
       "      <td>...</td>\n",
       "      <td>...</td>\n",
       "      <td>...</td>\n",
       "      <td>...</td>\n",
       "    </tr>\n",
       "    <tr>\n",
       "      <th>1761</th>\n",
       "      <td>NR - NON_RENSEIGNE</td>\n",
       "      <td>PSL - Etablissements Relevant de la Loi Hospitalière</td>\n",
       "      <td>0</td>\n",
       "      <td>0</td>\n",
       "      <td>0</td>\n",
       "      <td>0</td>\n",
       "      <td>0</td>\n",
       "      <td>1</td>\n",
       "      <td>0</td>\n",
       "      <td>0</td>\n",
       "      <td>0</td>\n",
       "      <td>0</td>\n",
       "      <td>0</td>\n",
       "      <td>0</td>\n",
       "    </tr>\n",
       "    <tr>\n",
       "      <th>1762</th>\n",
       "      <td>NR - NON_RENSEIGNE</td>\n",
       "      <td>Social</td>\n",
       "      <td>0</td>\n",
       "      <td>0</td>\n",
       "      <td>0</td>\n",
       "      <td>0</td>\n",
       "      <td>2</td>\n",
       "      <td>1</td>\n",
       "      <td>0</td>\n",
       "      <td>0</td>\n",
       "      <td>2</td>\n",
       "      <td>0</td>\n",
       "      <td>0</td>\n",
       "      <td>0</td>\n",
       "    </tr>\n",
       "    <tr>\n",
       "      <th>1763</th>\n",
       "      <td>NR - NON_RENSEIGNE</td>\n",
       "      <td>NR</td>\n",
       "      <td>1 084</td>\n",
       "      <td>881</td>\n",
       "      <td>646</td>\n",
       "      <td>550</td>\n",
       "      <td>541</td>\n",
       "      <td>468</td>\n",
       "      <td>421</td>\n",
       "      <td>447</td>\n",
       "      <td>355</td>\n",
       "      <td>45 085</td>\n",
       "      <td>54 265</td>\n",
       "      <td>316</td>\n",
       "    </tr>\n",
       "    <tr>\n",
       "      <th>1764</th>\n",
       "      <td>NR - NON_RENSEIGNE</td>\n",
       "      <td>TOTAL</td>\n",
       "      <td>1 169</td>\n",
       "      <td>934</td>\n",
       "      <td>682</td>\n",
       "      <td>600</td>\n",
       "      <td>592</td>\n",
       "      <td>512</td>\n",
       "      <td>459</td>\n",
       "      <td>475</td>\n",
       "      <td>379</td>\n",
       "      <td>45 105</td>\n",
       "      <td>54 288</td>\n",
       "      <td>336</td>\n",
       "    </tr>\n",
       "    <tr>\n",
       "      <th>1765</th>\n",
       "      <td>0</td>\n",
       "      <td>TOTAL</td>\n",
       "      <td>84 967</td>\n",
       "      <td>82 328</td>\n",
       "      <td>71 348</td>\n",
       "      <td>70 745</td>\n",
       "      <td>70 638</td>\n",
       "      <td>65 446</td>\n",
       "      <td>62 276</td>\n",
       "      <td>67 262</td>\n",
       "      <td>63 097</td>\n",
       "      <td>63 123</td>\n",
       "      <td>58 694</td>\n",
       "      <td>58 130</td>\n",
       "    </tr>\n",
       "  </tbody>\n",
       "</table>\n",
       "<p>1766 rows × 14 columns</p>\n",
       "</div>"
      ],
      "text/plain": [
       "                     Dep  \\\n",
       "0               01 - Ain   \n",
       "1               01 - Ain   \n",
       "2               01 - Ain   \n",
       "3               01 - Ain   \n",
       "4               01 - Ain   \n",
       "...                  ...   \n",
       "1761  NR - NON_RENSEIGNE   \n",
       "1762  NR - NON_RENSEIGNE   \n",
       "1763  NR - NON_RENSEIGNE   \n",
       "1764  NR - NON_RENSEIGNE   \n",
       "1765                   0   \n",
       "\n",
       "                                             Type d'acteur 2023-10 2023-09  \\\n",
       "0                                                       ES      17      16   \n",
       "1                                                     ESMS       1       0   \n",
       "2       PSL - Autres Etablissements de Soins et Prévention       1       0   \n",
       "3                       PSL - Autres médecins spécialistes      77      76   \n",
       "4                                   PSL - Centres de santé       8       8   \n",
       "...                                                    ...     ...     ...   \n",
       "1761  PSL - Etablissements Relevant de la Loi Hospitalière       0       0   \n",
       "1762                                                Social       0       0   \n",
       "1763                                                    NR   1 084     881   \n",
       "1764                                                 TOTAL   1 169     934   \n",
       "1765                                                 TOTAL  84 967  82 328   \n",
       "\n",
       "     2023-08 2023-07 2023-06 2023-05 2023-04 2023-03 2023-02 2023-01 2022-12  \\\n",
       "0         15      16      14      14      14      15      14      13      13   \n",
       "1          0       0       0       0       0       0       0       0       0   \n",
       "2          0       0       0       0       0       0       0       0       0   \n",
       "3         65      62      62      60      54      56      55      44      30   \n",
       "4          7       7       7       7       1       2       1       0       0   \n",
       "...      ...     ...     ...     ...     ...     ...     ...     ...     ...   \n",
       "1761       0       0       0       1       0       0       0       0       0   \n",
       "1762       0       0       2       1       0       0       2       0       0   \n",
       "1763     646     550     541     468     421     447     355  45 085  54 265   \n",
       "1764     682     600     592     512     459     475     379  45 105  54 288   \n",
       "1765  71 348  70 745  70 638  65 446  62 276  67 262  63 097  63 123  58 694   \n",
       "\n",
       "     2022-11  \n",
       "0         13  \n",
       "1          0  \n",
       "2          0  \n",
       "3         38  \n",
       "4          0  \n",
       "...      ...  \n",
       "1761       0  \n",
       "1762       0  \n",
       "1763     316  \n",
       "1764     336  \n",
       "1765  58 130  \n",
       "\n",
       "[1766 rows x 14 columns]"
      ]
     },
     "execution_count": 26,
     "metadata": {},
     "output_type": "execute_result"
    }
   ],
   "source": [
    "df_utilisateurs_dmp"
   ]
  },
  {
   "cell_type": "markdown",
   "id": "0e174474",
   "metadata": {},
   "source": [
    "Puis nous vérifions colonne par colonne, le nombre de celulles vides. "
   ]
  },
  {
   "cell_type": "code",
   "execution_count": 27,
   "id": "b558cb24",
   "metadata": {},
   "outputs": [
    {
     "data": {
      "text/plain": [
       "Dep              0\n",
       "Type d'acteur    0\n",
       "2023-10          0\n",
       "2023-09          0\n",
       "2023-08          0\n",
       "2023-07          0\n",
       "2023-06          0\n",
       "2023-05          0\n",
       "2023-04          0\n",
       "2023-03          0\n",
       "2023-02          0\n",
       "2023-01          0\n",
       "2022-12          0\n",
       "2022-11          0\n",
       "dtype: int64"
      ]
     },
     "execution_count": 27,
     "metadata": {},
     "output_type": "execute_result"
    }
   ],
   "source": [
    "df_utilisateurs_dmp.isnull().sum()"
   ]
  },
  {
   "cell_type": "markdown",
   "id": "7bddb23f",
   "metadata": {},
   "source": [
    "On va transposer les colonnes contenant les dates afin d'avoir une cohérence entre les différents dataframes."
   ]
  },
  {
   "cell_type": "code",
   "execution_count": 28,
   "id": "f7dfaab8",
   "metadata": {},
   "outputs": [],
   "source": [
    "df_utilisateurs_dmp=df_utilisateurs_dmp.melt([\"Dep\",\"Type d'acteur\"], var_name=\"Date\", value_name=\"Utilisateurs_uniques\")"
   ]
  },
  {
   "cell_type": "code",
   "execution_count": 29,
   "id": "fd4da9ed",
   "metadata": {},
   "outputs": [
    {
     "data": {
      "text/html": [
       "<div>\n",
       "<style scoped>\n",
       "    .dataframe tbody tr th:only-of-type {\n",
       "        vertical-align: middle;\n",
       "    }\n",
       "\n",
       "    .dataframe tbody tr th {\n",
       "        vertical-align: top;\n",
       "    }\n",
       "\n",
       "    .dataframe thead th {\n",
       "        text-align: right;\n",
       "    }\n",
       "</style>\n",
       "<table border=\"1\" class=\"dataframe\">\n",
       "  <thead>\n",
       "    <tr style=\"text-align: right;\">\n",
       "      <th></th>\n",
       "      <th>Dep</th>\n",
       "      <th>Type d'acteur</th>\n",
       "      <th>Date</th>\n",
       "      <th>Utilisateurs_uniques</th>\n",
       "    </tr>\n",
       "  </thead>\n",
       "  <tbody>\n",
       "    <tr>\n",
       "      <th>0</th>\n",
       "      <td>01 - Ain</td>\n",
       "      <td>ES</td>\n",
       "      <td>2023-10</td>\n",
       "      <td>17</td>\n",
       "    </tr>\n",
       "    <tr>\n",
       "      <th>1</th>\n",
       "      <td>01 - Ain</td>\n",
       "      <td>ESMS</td>\n",
       "      <td>2023-10</td>\n",
       "      <td>1</td>\n",
       "    </tr>\n",
       "    <tr>\n",
       "      <th>2</th>\n",
       "      <td>01 - Ain</td>\n",
       "      <td>PSL - Autres Etablissements de Soins et Prévention</td>\n",
       "      <td>2023-10</td>\n",
       "      <td>1</td>\n",
       "    </tr>\n",
       "    <tr>\n",
       "      <th>3</th>\n",
       "      <td>01 - Ain</td>\n",
       "      <td>PSL - Autres médecins spécialistes</td>\n",
       "      <td>2023-10</td>\n",
       "      <td>77</td>\n",
       "    </tr>\n",
       "    <tr>\n",
       "      <th>4</th>\n",
       "      <td>01 - Ain</td>\n",
       "      <td>PSL - Centres de santé</td>\n",
       "      <td>2023-10</td>\n",
       "      <td>8</td>\n",
       "    </tr>\n",
       "  </tbody>\n",
       "</table>\n",
       "</div>"
      ],
      "text/plain": [
       "        Dep                                       Type d'acteur     Date  \\\n",
       "0  01 - Ain                                                  ES  2023-10   \n",
       "1  01 - Ain                                                ESMS  2023-10   \n",
       "2  01 - Ain  PSL - Autres Etablissements de Soins et Prévention  2023-10   \n",
       "3  01 - Ain                  PSL - Autres médecins spécialistes  2023-10   \n",
       "4  01 - Ain                              PSL - Centres de santé  2023-10   \n",
       "\n",
       "  Utilisateurs_uniques  \n",
       "0                   17  \n",
       "1                    1  \n",
       "2                    1  \n",
       "3                   77  \n",
       "4                    8  "
      ]
     },
     "execution_count": 29,
     "metadata": {},
     "output_type": "execute_result"
    }
   ],
   "source": [
    "df_utilisateurs_dmp.head()"
   ]
  },
  {
   "cell_type": "markdown",
   "id": "532af1cb",
   "metadata": {},
   "source": [
    "Nous constatons la présence de ligne pour lesquelles le département n'est pas renseigné. Ainsi que la ligne Total. Nous allons supprimer ces lignes afin de pouvoir résonner par département. "
   ]
  },
  {
   "cell_type": "code",
   "execution_count": 30,
   "id": "70c5d0ee",
   "metadata": {},
   "outputs": [],
   "source": [
    "df_utilisateurs_dmp=df_utilisateurs_dmp[df_utilisateurs_dmp[\"Dep\"].str.contains(\"NR - NON_RENSEIGNE\") == False]"
   ]
  },
  {
   "cell_type": "code",
   "execution_count": 31,
   "id": "a3732460",
   "metadata": {},
   "outputs": [],
   "source": [
    "df2 = df_utilisateurs_dmp.loc[df_utilisateurs_dmp[\"Type d'acteur\"] != 'TOTAL']"
   ]
  },
  {
   "cell_type": "code",
   "execution_count": 14,
   "id": "abdf5bd1",
   "metadata": {},
   "outputs": [
    {
     "data": {
      "text/html": [
       "<div>\n",
       "<style scoped>\n",
       "    .dataframe tbody tr th:only-of-type {\n",
       "        vertical-align: middle;\n",
       "    }\n",
       "\n",
       "    .dataframe tbody tr th {\n",
       "        vertical-align: top;\n",
       "    }\n",
       "\n",
       "    .dataframe thead th {\n",
       "        text-align: right;\n",
       "    }\n",
       "</style>\n",
       "<table border=\"1\" class=\"dataframe\">\n",
       "  <thead>\n",
       "    <tr style=\"text-align: right;\">\n",
       "      <th></th>\n",
       "      <th>Dep</th>\n",
       "      <th>Type d'acteur</th>\n",
       "      <th>Date</th>\n",
       "      <th>Utilisateurs_uniques</th>\n",
       "    </tr>\n",
       "  </thead>\n",
       "  <tbody>\n",
       "    <tr>\n",
       "      <th>0</th>\n",
       "      <td>01 - Ain</td>\n",
       "      <td>ES</td>\n",
       "      <td>2023-10</td>\n",
       "      <td>17</td>\n",
       "    </tr>\n",
       "    <tr>\n",
       "      <th>1</th>\n",
       "      <td>01 - Ain</td>\n",
       "      <td>ESMS</td>\n",
       "      <td>2023-10</td>\n",
       "      <td>1</td>\n",
       "    </tr>\n",
       "    <tr>\n",
       "      <th>2</th>\n",
       "      <td>01 - Ain</td>\n",
       "      <td>PSL - Autres Etablissements de Soins et Prévention</td>\n",
       "      <td>2023-10</td>\n",
       "      <td>1</td>\n",
       "    </tr>\n",
       "    <tr>\n",
       "      <th>3</th>\n",
       "      <td>01 - Ain</td>\n",
       "      <td>PSL - Autres médecins spécialistes</td>\n",
       "      <td>2023-10</td>\n",
       "      <td>77</td>\n",
       "    </tr>\n",
       "    <tr>\n",
       "      <th>4</th>\n",
       "      <td>01 - Ain</td>\n",
       "      <td>PSL - Centres de santé</td>\n",
       "      <td>2023-10</td>\n",
       "      <td>8</td>\n",
       "    </tr>\n",
       "    <tr>\n",
       "      <th>...</th>\n",
       "      <td>...</td>\n",
       "      <td>...</td>\n",
       "      <td>...</td>\n",
       "      <td>...</td>\n",
       "    </tr>\n",
       "    <tr>\n",
       "      <th>21176</th>\n",
       "      <td>976 - Mayotte</td>\n",
       "      <td>PSL - Orthophonistes</td>\n",
       "      <td>2022-11</td>\n",
       "      <td>1</td>\n",
       "    </tr>\n",
       "    <tr>\n",
       "      <th>21177</th>\n",
       "      <td>976 - Mayotte</td>\n",
       "      <td>PSL - Orthoptistes</td>\n",
       "      <td>2022-11</td>\n",
       "      <td>0</td>\n",
       "    </tr>\n",
       "    <tr>\n",
       "      <th>21178</th>\n",
       "      <td>976 - Mayotte</td>\n",
       "      <td>PSL - Pharmacies</td>\n",
       "      <td>2022-11</td>\n",
       "      <td>6</td>\n",
       "    </tr>\n",
       "    <tr>\n",
       "      <th>21179</th>\n",
       "      <td>976 - Mayotte</td>\n",
       "      <td>PSL - Sages-femmes</td>\n",
       "      <td>2022-11</td>\n",
       "      <td>0</td>\n",
       "    </tr>\n",
       "    <tr>\n",
       "      <th>21180</th>\n",
       "      <td>976 - Mayotte</td>\n",
       "      <td>TOTAL</td>\n",
       "      <td>2022-11</td>\n",
       "      <td>27</td>\n",
       "    </tr>\n",
       "  </tbody>\n",
       "</table>\n",
       "<p>21060 rows × 4 columns</p>\n",
       "</div>"
      ],
      "text/plain": [
       "                 Dep                                       Type d'acteur  \\\n",
       "0           01 - Ain                                                  ES   \n",
       "1           01 - Ain                                                ESMS   \n",
       "2           01 - Ain  PSL - Autres Etablissements de Soins et Prévention   \n",
       "3           01 - Ain                  PSL - Autres médecins spécialistes   \n",
       "4           01 - Ain                              PSL - Centres de santé   \n",
       "...              ...                                                 ...   \n",
       "21176  976 - Mayotte                                PSL - Orthophonistes   \n",
       "21177  976 - Mayotte                                  PSL - Orthoptistes   \n",
       "21178  976 - Mayotte                                    PSL - Pharmacies   \n",
       "21179  976 - Mayotte                                  PSL - Sages-femmes   \n",
       "21180  976 - Mayotte                                               TOTAL   \n",
       "\n",
       "          Date Utilisateurs_uniques  \n",
       "0      2023-10                   17  \n",
       "1      2023-10                    1  \n",
       "2      2023-10                    1  \n",
       "3      2023-10                   77  \n",
       "4      2023-10                    8  \n",
       "...        ...                  ...  \n",
       "21176  2022-11                    1  \n",
       "21177  2022-11                    0  \n",
       "21178  2022-11                    6  \n",
       "21179  2022-11                    0  \n",
       "21180  2022-11                   27  \n",
       "\n",
       "[21060 rows x 4 columns]"
      ]
     },
     "execution_count": 14,
     "metadata": {},
     "output_type": "execute_result"
    }
   ],
   "source": [
    "df_utilisateurs_dmp"
   ]
  },
  {
   "cell_type": "markdown",
   "id": "0a898008",
   "metadata": {},
   "source": [
    "De nouveau afin de concerver une cohérence entre les fichiers, nous allons, séparer la colonne \"Dep\" en 2 afin d'avoir le nom du département d'un côté et le code département de l'autre. "
   ]
  },
  {
   "cell_type": "code",
   "execution_count": 32,
   "id": "eb89ad63",
   "metadata": {},
   "outputs": [],
   "source": [
    "df2[[\"Code_dep\",\"Dep\"]] = df_utilisateurs_dmp[\"Dep\"].str.split(\" - \",expand=True)"
   ]
  },
  {
   "cell_type": "markdown",
   "id": "d2a5089b",
   "metadata": {},
   "source": [
    "Nous allons réorganiser les colonnes : "
   ]
  },
  {
   "cell_type": "code",
   "execution_count": 33,
   "id": "4a654d0e",
   "metadata": {},
   "outputs": [],
   "source": [
    "df_utilisateurs_dmp = df_utilisateurs_dmp[[\"Dep\", \"Code_dep\", \"Date\", \"Type d'acteur\",\"Utilisateurs_uniques\"]]"
   ]
  },
  {
   "cell_type": "code",
   "execution_count": 34,
   "id": "95ad3aef",
   "metadata": {},
   "outputs": [
    {
     "data": {
      "text/html": [
       "<div>\n",
       "<style scoped>\n",
       "    .dataframe tbody tr th:only-of-type {\n",
       "        vertical-align: middle;\n",
       "    }\n",
       "\n",
       "    .dataframe tbody tr th {\n",
       "        vertical-align: top;\n",
       "    }\n",
       "\n",
       "    .dataframe thead th {\n",
       "        text-align: right;\n",
       "    }\n",
       "</style>\n",
       "<table border=\"1\" class=\"dataframe\">\n",
       "  <thead>\n",
       "    <tr style=\"text-align: right;\">\n",
       "      <th></th>\n",
       "      <th>Dep</th>\n",
       "      <th>Code_dep</th>\n",
       "      <th>Date</th>\n",
       "      <th>Type d'acteur</th>\n",
       "      <th>Utilisateurs_uniques</th>\n",
       "    </tr>\n",
       "  </thead>\n",
       "  <tbody>\n",
       "    <tr>\n",
       "      <th>0</th>\n",
       "      <td>Ain</td>\n",
       "      <td>01</td>\n",
       "      <td>2023-10</td>\n",
       "      <td>ES</td>\n",
       "      <td>17</td>\n",
       "    </tr>\n",
       "    <tr>\n",
       "      <th>1</th>\n",
       "      <td>Ain</td>\n",
       "      <td>01</td>\n",
       "      <td>2023-10</td>\n",
       "      <td>ESMS</td>\n",
       "      <td>1</td>\n",
       "    </tr>\n",
       "    <tr>\n",
       "      <th>2</th>\n",
       "      <td>Ain</td>\n",
       "      <td>01</td>\n",
       "      <td>2023-10</td>\n",
       "      <td>PSL - Autres Etablissements de Soins et Prévention</td>\n",
       "      <td>1</td>\n",
       "    </tr>\n",
       "    <tr>\n",
       "      <th>3</th>\n",
       "      <td>Ain</td>\n",
       "      <td>01</td>\n",
       "      <td>2023-10</td>\n",
       "      <td>PSL - Autres médecins spécialistes</td>\n",
       "      <td>77</td>\n",
       "    </tr>\n",
       "    <tr>\n",
       "      <th>4</th>\n",
       "      <td>Ain</td>\n",
       "      <td>01</td>\n",
       "      <td>2023-10</td>\n",
       "      <td>PSL - Centres de santé</td>\n",
       "      <td>8</td>\n",
       "    </tr>\n",
       "  </tbody>\n",
       "</table>\n",
       "</div>"
      ],
      "text/plain": [
       "   Dep Code_dep     Date                                       Type d'acteur  \\\n",
       "0  Ain       01  2023-10                                                  ES   \n",
       "1  Ain       01  2023-10                                                ESMS   \n",
       "2  Ain       01  2023-10  PSL - Autres Etablissements de Soins et Prévention   \n",
       "3  Ain       01  2023-10                  PSL - Autres médecins spécialistes   \n",
       "4  Ain       01  2023-10                              PSL - Centres de santé   \n",
       "\n",
       "  Utilisateurs_uniques  \n",
       "0                   17  \n",
       "1                    1  \n",
       "2                    1  \n",
       "3                   77  \n",
       "4                    8  "
      ]
     },
     "execution_count": 34,
     "metadata": {},
     "output_type": "execute_result"
    }
   ],
   "source": [
    "df_utilisateurs_dmp.head()"
   ]
  },
  {
   "cell_type": "markdown",
   "id": "b49b5a8b",
   "metadata": {},
   "source": [
    "Regroupons les données afin de disposer des données mensuelles sans précisions sur le type d'acteur."
   ]
  },
  {
   "cell_type": "code",
   "execution_count": 35,
   "id": "2189aa90",
   "metadata": {},
   "outputs": [],
   "source": [
    "df_utilisateurs_dmp2 = df_utilisateurs_dmp"
   ]
  },
  {
   "cell_type": "code",
   "execution_count": 19,
   "id": "1170d2b9",
   "metadata": {},
   "outputs": [
    {
     "ename": "ValueError",
     "evalue": "Unable to parse string \"2 209\" at position 100",
     "output_type": "error",
     "traceback": [
      "\u001b[1;31m---------------------------------------------------------------------------\u001b[0m",
      "\u001b[1;31mValueError\u001b[0m                                Traceback (most recent call last)",
      "File \u001b[1;32mD:\\Programmes\\Logiciels\\anaconda3\\Lib\\site-packages\\pandas\\_libs\\lib.pyx:2280\u001b[0m, in \u001b[0;36mpandas._libs.lib.maybe_convert_numeric\u001b[1;34m()\u001b[0m\n",
      "\u001b[1;31mValueError\u001b[0m: Unable to parse string \"2 209\"",
      "\nDuring handling of the above exception, another exception occurred:\n",
      "\u001b[1;31mValueError\u001b[0m                                Traceback (most recent call last)",
      "Cell \u001b[1;32mIn[19], line 1\u001b[0m\n\u001b[1;32m----> 1\u001b[0m df_utilisateurs_dmp2[\u001b[38;5;124m'\u001b[39m\u001b[38;5;124mUtilisateurs_uniques\u001b[39m\u001b[38;5;124m'\u001b[39m] \u001b[38;5;241m=\u001b[39m pd\u001b[38;5;241m.\u001b[39mto_numeric(df_utilisateurs_dmp2[\u001b[38;5;124m'\u001b[39m\u001b[38;5;124mUtilisateurs_uniques\u001b[39m\u001b[38;5;124m'\u001b[39m])\n",
      "File \u001b[1;32mD:\\Programmes\\Logiciels\\anaconda3\\Lib\\site-packages\\pandas\\core\\tools\\numeric.py:217\u001b[0m, in \u001b[0;36mto_numeric\u001b[1;34m(arg, errors, downcast, dtype_backend)\u001b[0m\n\u001b[0;32m    215\u001b[0m coerce_numeric \u001b[38;5;241m=\u001b[39m errors \u001b[38;5;129;01mnot\u001b[39;00m \u001b[38;5;129;01min\u001b[39;00m (\u001b[38;5;124m\"\u001b[39m\u001b[38;5;124mignore\u001b[39m\u001b[38;5;124m\"\u001b[39m, \u001b[38;5;124m\"\u001b[39m\u001b[38;5;124mraise\u001b[39m\u001b[38;5;124m\"\u001b[39m)\n\u001b[0;32m    216\u001b[0m \u001b[38;5;28;01mtry\u001b[39;00m:\n\u001b[1;32m--> 217\u001b[0m     values, new_mask \u001b[38;5;241m=\u001b[39m lib\u001b[38;5;241m.\u001b[39mmaybe_convert_numeric(  \u001b[38;5;66;03m# type: ignore[call-overload]  # noqa\u001b[39;00m\n\u001b[0;32m    218\u001b[0m         values,\n\u001b[0;32m    219\u001b[0m         \u001b[38;5;28mset\u001b[39m(),\n\u001b[0;32m    220\u001b[0m         coerce_numeric\u001b[38;5;241m=\u001b[39mcoerce_numeric,\n\u001b[0;32m    221\u001b[0m         convert_to_masked_nullable\u001b[38;5;241m=\u001b[39mdtype_backend \u001b[38;5;129;01mis\u001b[39;00m \u001b[38;5;129;01mnot\u001b[39;00m lib\u001b[38;5;241m.\u001b[39mno_default\n\u001b[0;32m    222\u001b[0m         \u001b[38;5;129;01mor\u001b[39;00m \u001b[38;5;28misinstance\u001b[39m(values_dtype, StringDtype),\n\u001b[0;32m    223\u001b[0m     )\n\u001b[0;32m    224\u001b[0m \u001b[38;5;28;01mexcept\u001b[39;00m (\u001b[38;5;167;01mValueError\u001b[39;00m, \u001b[38;5;167;01mTypeError\u001b[39;00m):\n\u001b[0;32m    225\u001b[0m     \u001b[38;5;28;01mif\u001b[39;00m errors \u001b[38;5;241m==\u001b[39m \u001b[38;5;124m\"\u001b[39m\u001b[38;5;124mraise\u001b[39m\u001b[38;5;124m\"\u001b[39m:\n",
      "File \u001b[1;32mD:\\Programmes\\Logiciels\\anaconda3\\Lib\\site-packages\\pandas\\_libs\\lib.pyx:2322\u001b[0m, in \u001b[0;36mpandas._libs.lib.maybe_convert_numeric\u001b[1;34m()\u001b[0m\n",
      "\u001b[1;31mValueError\u001b[0m: Unable to parse string \"2 209\" at position 100"
     ]
    }
   ],
   "source": [
    "df_utilisateurs_dmp2['Utilisateurs_uniques'] = pd.to_numeric(df_utilisateurs_dmp2['Utilisateurs_uniques'])"
   ]
  },
  {
   "cell_type": "code",
   "execution_count": null,
   "id": "3c2ba394",
   "metadata": {},
   "outputs": [],
   "source": [
    "#df_utilisateurs_dmp2.loc[~df_utilisateurs_dmp2['Utilisateurs_uniques'].str.isdigit(), 'Utilisateurs_uniques'].tolist()"
   ]
  },
  {
   "cell_type": "code",
   "execution_count": null,
   "id": "c4cd03ef",
   "metadata": {},
   "outputs": [],
   "source": [
    "#df_utilisateurs_dmp2['Utilisateurs_uniques'].astype(float)"
   ]
  },
  {
   "cell_type": "code",
   "execution_count": null,
   "id": "4b3f14dd",
   "metadata": {},
   "outputs": [],
   "source": [
    "df_utilisateurs_dmp2.groupby(['Dep'])['Utilisateurs_uniques'].sum()"
   ]
  },
  {
   "cell_type": "code",
   "execution_count": null,
   "id": "63cd0f67",
   "metadata": {},
   "outputs": [],
   "source": [
    "#df_utilisateurs_dmp['Utilisateurs_uniques'].astype(float)"
   ]
  },
  {
   "cell_type": "code",
   "execution_count": null,
   "id": "39bc8f15",
   "metadata": {},
   "outputs": [],
   "source": [
    "#df_utilisateurs_dmp.to_csv('test_df_utilisateurs_dmp.csv')"
   ]
  },
  {
   "cell_type": "code",
   "execution_count": null,
   "id": "0b51d3b4",
   "metadata": {},
   "outputs": [],
   "source": [
    "df_utilisateurs_dmp2"
   ]
  },
  {
   "cell_type": "code",
   "execution_count": 36,
   "id": "a1095585",
   "metadata": {},
   "outputs": [],
   "source": [
    "df_utilisateurs_dmp2.to_csv('test_df_utilisateurs_dmp_float.csv')"
   ]
  },
  {
   "cell_type": "markdown",
   "id": "d4346bc5",
   "metadata": {},
   "source": [
    "Import du second fichier :"
   ]
  },
  {
   "cell_type": "code",
   "execution_count": null,
   "id": "046c0a8a",
   "metadata": {},
   "outputs": [],
   "source": [
    "df_alimentation_dmp=pd.read_csv(r\"C:\\Users\\Julien\\Desktop\\Project_analyse_donnees_PS\\alimentation_DMP.csv\", sep = ';')"
   ]
  },
  {
   "cell_type": "code",
   "execution_count": null,
   "id": "b4e2807d",
   "metadata": {},
   "outputs": [],
   "source": [
    "df_alimentation_dmp"
   ]
  },
  {
   "cell_type": "markdown",
   "id": "c79af950",
   "metadata": {},
   "source": [
    "Vérifions qu'il n'y ait pas de cellules vides"
   ]
  },
  {
   "cell_type": "code",
   "execution_count": null,
   "id": "94ba89f8",
   "metadata": {},
   "outputs": [],
   "source": [
    "df_alimentation_dmp.isnull().sum()"
   ]
  },
  {
   "cell_type": "markdown",
   "id": "f15b31fe",
   "metadata": {},
   "source": [
    "### Fusion des 2 fichiers concernant l'alimentation et l'utilisation du DMP"
   ]
  },
  {
   "cell_type": "markdown",
   "id": "d3a39d8e",
   "metadata": {},
   "source": [
    "Tout d'abord, traitons les différences de noms entre les 2 fichiers. Nous allons remplacer la valeur \"Corse-du-Sud\" par \"Corse\" dans le fichier consernant l'alimentation du DMP. En effet, nous n'avons pas de précision dans le premier fichier (utilisateurs du DMP) afin de savoir si Corse fait référence à Corse du Sud ou Haute Corse."
   ]
  },
  {
   "cell_type": "code",
   "execution_count": null,
   "id": "acff2fc8",
   "metadata": {},
   "outputs": [],
   "source": [
    "df_alimentation_dmp['Dep'] = df_alimentation_dmp['Dep'].replace(['Corse-du-Sud'], 'Corse')"
   ]
  },
  {
   "cell_type": "code",
   "execution_count": null,
   "id": "03f942af",
   "metadata": {},
   "outputs": [],
   "source": [
    "#df_alimentation_dmp.to_csv('test_alimentation_df_dmpa.csv')"
   ]
  },
  {
   "cell_type": "code",
   "execution_count": null,
   "id": "f1d01e7e",
   "metadata": {},
   "outputs": [],
   "source": [
    "df_dmp = pd.merge(df_utilisateurs_dmp, df_alimentation_dmp, how='inner', on=['Dep','Date'])"
   ]
  },
  {
   "cell_type": "code",
   "execution_count": null,
   "id": "8fb0c468",
   "metadata": {},
   "outputs": [],
   "source": [
    "df_dmp"
   ]
  },
  {
   "cell_type": "code",
   "execution_count": null,
   "id": "18628e79",
   "metadata": {},
   "outputs": [],
   "source": [
    "#df_dmp.to_csv('test_df_dmpa.csv')"
   ]
  },
  {
   "cell_type": "markdown",
   "id": "2775ca4b",
   "metadata": {},
   "source": [
    "Supprimons les colonnes en doublons :"
   ]
  },
  {
   "cell_type": "code",
   "execution_count": null,
   "id": "db50f5ca",
   "metadata": {},
   "outputs": [],
   "source": [
    "df_dmp.rename(columns={'Code_dep_y':'Code_dep'}, inplace=True)"
   ]
  },
  {
   "cell_type": "code",
   "execution_count": null,
   "id": "8998ec07",
   "metadata": {},
   "outputs": [],
   "source": [
    "df_dmp.drop('Code_dep_x', axis = 1, inplace=True)"
   ]
  },
  {
   "cell_type": "markdown",
   "id": "b32ed413",
   "metadata": {},
   "source": [
    "Réorganisons une nouvelle fois les colonnes :"
   ]
  },
  {
   "cell_type": "code",
   "execution_count": null,
   "id": "e4c9e195",
   "metadata": {},
   "outputs": [],
   "source": [
    "df_dmp = df_dmp[[\"Reg\",\n",
    "                 \"Dep\",\n",
    "                 \"Code_dep\",\n",
    "                 \"Date\",\n",
    "                 \"Moy_doc_par_hab\",\n",
    "                 \"Tot_doc_hors_HR\",\n",
    "                 \"Pop_au_01/01/2023\",\n",
    "                 \"Type d'acteur\",\n",
    "                 \"Utilisateurs_uniques\"]]"
   ]
  },
  {
   "cell_type": "code",
   "execution_count": null,
   "id": "b12d9450",
   "metadata": {},
   "outputs": [],
   "source": [
    "df_dmp"
   ]
  },
  {
   "cell_type": "code",
   "execution_count": null,
   "id": "1f5d495a",
   "metadata": {},
   "outputs": [],
   "source": [
    "df_dmp.isnull().sum()"
   ]
  },
  {
   "cell_type": "code",
   "execution_count": null,
   "id": "38e77f95",
   "metadata": {},
   "outputs": [],
   "source": [
    "#df_dmp.to_csv('test_df_dmp.csv')"
   ]
  },
  {
   "cell_type": "markdown",
   "id": "bbcdb227",
   "metadata": {},
   "source": [
    "Nous pouvons poursuivre l'analyse en nous intéressant à l'impact de l'alimentation des ES/laboratoire/pharmacie.\n",
    "L'urbanisation d'un territoire/l'âge de la population (patiens et PS) ont-ils un impact également? \n",
    "De même concernant l'accès à internet"
   ]
  },
  {
   "cell_type": "markdown",
   "id": "0958ccb1",
   "metadata": {},
   "source": [
    "### Couverture en haut-débit filaire"
   ]
  },
  {
   "cell_type": "markdown",
   "id": "a05aac7d",
   "metadata": {},
   "source": [
    "Nous avons choisi de nous concentre sur l'accès par internet par voix filaire car il s'agit aujourd'hui de la méthode d'accès la plus simple et la plus abordable (trouver une statistique qui le confirme). "
   ]
  },
  {
   "cell_type": "code",
   "execution_count": null,
   "id": "0adc7443",
   "metadata": {},
   "outputs": [],
   "source": [
    "df_acces_internet=pd.read_csv(r\"C:\\Users\\Julien\\Desktop\\Project_analyse_donnees_PS\\departement_debit_filaire.csv\"\n",
    "                              , sep = ';')"
   ]
  },
  {
   "cell_type": "code",
   "execution_count": null,
   "id": "12eb1ab7",
   "metadata": {},
   "outputs": [],
   "source": [
    "df_acces_internet"
   ]
  },
  {
   "cell_type": "markdown",
   "id": "d3d983f9",
   "metadata": {},
   "source": [
    "Afin de rendre la lecture du fichier plus simple, nous allons supprimer certains colonnes et renommer les colonnes. "
   ]
  },
  {
   "cell_type": "code",
   "execution_count": null,
   "id": "ade264f7",
   "metadata": {},
   "outputs": [],
   "source": [
    "df_acces_internet.drop(['code_reg','type','date','elig_thd1g'], axis = 1, inplace=True)"
   ]
  },
  {
   "cell_type": "code",
   "execution_count": null,
   "id": "3f93ba11",
   "metadata": {},
   "outputs": [],
   "source": [
    "df_acces_internet.rename(columns={'nom_dep':'Dep',\n",
    "                                  'nbr':'nb_points_acces',\n",
    "                                    'inel_hd':'non_eligible',\n",
    "                                    'elig_hd05': 'hd_500kbs',\n",
    "                                    'elig_hd3': 'hd_3mbs',\n",
    "                                    'elig_bhd8': 'bhd_8mbs',\n",
    "                                    'elig_thd30': 'thd_30mbs',\n",
    "                                    'elig_thd100': 'thd_100mbs_et_plus'},\n",
    "                                    inplace=True)"
   ]
  },
  {
   "cell_type": "code",
   "execution_count": null,
   "id": "f9d3f303",
   "metadata": {},
   "outputs": [],
   "source": [
    "df_acces_internet"
   ]
  },
  {
   "cell_type": "markdown",
   "id": "99bccb2a",
   "metadata": {},
   "source": [
    "Ici, les offres sont comptées dans chaque catégories dans lesquelles elles sont éligibles (l'offre à 8mbs est également comptée dans l'offres à 3mbs et à 500kbs par exemple). Afin de déterminer le nombre d'offres réelles dans chaques catégorie, nous allons soustraire une à une chaque colonne. Nous établierons ensuite la proportions de chaque offres. "
   ]
  },
  {
   "cell_type": "code",
   "execution_count": null,
   "id": "470b3631",
   "metadata": {},
   "outputs": [],
   "source": [
    "df_acces_internet['hd_500kbs'] = df_acces_internet['hd_500kbs'] - df_acces_internet['hd_3mbs']\n",
    "df_acces_internet['hd_3mbs'] = df_acces_internet['hd_3mbs'] - df_acces_internet['bhd_8mbs']\n",
    "df_acces_internet['bhd_8mbs'] = df_acces_internet['bhd_8mbs'] - df_acces_internet['thd_30mbs']\n",
    "df_acces_internet['thd_100mbs_et_plus'] = df_acces_internet['thd_100mbs_et_plus']"
   ]
  },
  {
   "cell_type": "code",
   "execution_count": null,
   "id": "7088b5f4",
   "metadata": {},
   "outputs": [],
   "source": [
    "df_acces_internet"
   ]
  },
  {
   "cell_type": "markdown",
   "id": "9634c074",
   "metadata": {},
   "source": [
    "Transformons maintenant les données en part du nombre de points d'accès"
   ]
  },
  {
   "cell_type": "code",
   "execution_count": null,
   "id": "6b40ecc5",
   "metadata": {},
   "outputs": [],
   "source": [
    "df_acces_internet['non_eligible'] = df_acces_internet['non_eligible'] / df_acces_internet['nb_points_acces'] * 100\n",
    "df_acces_internet['hd_500kbs'] = df_acces_internet['hd_500kbs'] / df_acces_internet['nb_points_acces'] * 100\n",
    "df_acces_internet['hd_3mbs'] = df_acces_internet['hd_3mbs']  / df_acces_internet['nb_points_acces'] * 100\n",
    "df_acces_internet['bhd_8mbs'] = df_acces_internet['bhd_8mbs']  / df_acces_internet['nb_points_acces'] * 100\n",
    "df_acces_internet['thd_30mbs'] = df_acces_internet['thd_30mbs'] / df_acces_internet['nb_points_acces'] * 100\n",
    "df_acces_internet['thd_100mbs_et_plus'] = df_acces_internet['thd_100mbs_et_plus'] / df_acces_internet['nb_points_acces'] * 100"
   ]
  },
  {
   "cell_type": "code",
   "execution_count": null,
   "id": "f2e6c3c8",
   "metadata": {},
   "outputs": [],
   "source": [
    "df_acces_internet"
   ]
  },
  {
   "cell_type": "markdown",
   "id": "21b546a4",
   "metadata": {},
   "source": [
    "Vérifions qu'il n'y ait pas cellule vide."
   ]
  },
  {
   "cell_type": "code",
   "execution_count": null,
   "id": "b580afe5",
   "metadata": {},
   "outputs": [],
   "source": [
    "df_acces_internet.isnull().sum()"
   ]
  },
  {
   "cell_type": "markdown",
   "id": "3633cda3",
   "metadata": {},
   "source": [
    "Fusionnons maintenant le dateframe avec le dataframe précédent sur le DMP. "
   ]
  },
  {
   "cell_type": "code",
   "execution_count": null,
   "id": "8a1ba7e5",
   "metadata": {},
   "outputs": [],
   "source": [
    "df_dmp_debit = df_dmp"
   ]
  },
  {
   "cell_type": "code",
   "execution_count": null,
   "id": "43672927",
   "metadata": {},
   "outputs": [],
   "source": [
    "df_dmp_debit"
   ]
  },
  {
   "cell_type": "code",
   "execution_count": null,
   "id": "4e6988af",
   "metadata": {},
   "outputs": [],
   "source": [
    "df_dmp_debit = pd.merge(df_dmp, df_acces_internet, how='left', on='Dep')"
   ]
  },
  {
   "cell_type": "code",
   "execution_count": null,
   "id": "ef017b9f",
   "metadata": {},
   "outputs": [],
   "source": [
    "df_dmp_debit"
   ]
  },
  {
   "cell_type": "code",
   "execution_count": null,
   "id": "b3781e0e",
   "metadata": {},
   "outputs": [],
   "source": [
    "df_dmp_debit.drop(['code_dep'], axis = 1, inplace=True)"
   ]
  },
  {
   "cell_type": "code",
   "execution_count": null,
   "id": "b7aa1167",
   "metadata": {},
   "outputs": [],
   "source": [
    "df_dmp_debit"
   ]
  },
  {
   "cell_type": "code",
   "execution_count": null,
   "id": "8ad64a65",
   "metadata": {},
   "outputs": [],
   "source": []
  }
 ],
 "metadata": {
  "kernelspec": {
   "display_name": "Python 3 (ipykernel)",
   "language": "python",
   "name": "python3"
  },
  "language_info": {
   "codemirror_mode": {
    "name": "ipython",
    "version": 3
   },
   "file_extension": ".py",
   "mimetype": "text/x-python",
   "name": "python",
   "nbconvert_exporter": "python",
   "pygments_lexer": "ipython3",
   "version": "3.11.5"
  }
 },
 "nbformat": 4,
 "nbformat_minor": 5
}
